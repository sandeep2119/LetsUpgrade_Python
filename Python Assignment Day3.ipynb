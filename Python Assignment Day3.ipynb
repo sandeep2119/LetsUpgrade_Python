{
 "cells": [
  {
   "cell_type": "markdown",
   "metadata": {},
   "source": [
    "# Question 1: You all are pilots, you want to land plane safely, so altitude required for a plane to land is 1000ft, if is less then tell pilot to land the plane, or it is more than that but less then 5000ft ask the pilot to \"come down to 1000ft\" else if it is more than 5000ft ask the pilot to \"go around and try later\"\n",
    "\n",
    "## Example\n",
    "### input - 1000\n",
    "### output - Safe to land\n",
    "### input - 4500\n",
    "### output - bring down to 1000\n",
    "### input - 6500\n",
    "### output - turn around\n"
   ]
  },
  {
   "cell_type": "code",
   "execution_count": 8,
   "metadata": {},
   "outputs": [
    {
     "name": "stdout",
     "output_type": "stream",
     "text": [
      "Enter the Altitude5000\n",
      "Go Turn around and try later with altitude 1000ft\n"
     ]
    }
   ],
   "source": [
    "altitude = input('Enter the Altitude')\n",
    "x = int(altitude)\n",
    "if(x == 1000):\n",
    "    print('Safe to Land')\n",
    "elif(x <= 4500):\n",
    "    print('Bring altitude to 1000ft')\n",
    "elif(x >= 4500):\n",
    "    print('Go Turn around and try later with altitude 1000ft')"
   ]
  },
  {
   "cell_type": "markdown",
   "metadata": {},
   "source": [
    "## Question 2: Using for loop please print all the prime numbers between 1-200 using for loop and range function"
   ]
  },
  {
   "cell_type": "code",
   "execution_count": 22,
   "metadata": {},
   "outputs": [
    {
     "name": "stdout",
     "output_type": "stream",
     "text": [
      "1\n",
      "2\n",
      "3\n",
      "5\n",
      "7\n",
      "11\n",
      "13\n",
      "17\n",
      "19\n",
      "23\n",
      "29\n",
      "31\n",
      "37\n",
      "41\n",
      "43\n",
      "47\n",
      "53\n",
      "59\n",
      "61\n",
      "67\n",
      "71\n",
      "73\n",
      "79\n",
      "83\n",
      "89\n",
      "97\n",
      "101\n",
      "103\n",
      "107\n",
      "109\n",
      "113\n",
      "127\n",
      "131\n",
      "137\n",
      "139\n",
      "149\n",
      "151\n",
      "157\n",
      "163\n",
      "167\n",
      "173\n",
      "179\n",
      "181\n",
      "191\n",
      "193\n",
      "197\n",
      "199\n"
     ]
    }
   ],
   "source": [
    "start = 1\n",
    "end = 200\n",
    "  \n",
    "for i in range(start,end): \n",
    "    for j in range(2,i): \n",
    "        if(i % j==0): \n",
    "            break\n",
    "    else: \n",
    "        print(i) "
   ]
  }
 ],
 "metadata": {
  "kernelspec": {
   "display_name": "Python 3",
   "language": "python",
   "name": "python3"
  },
  "language_info": {
   "codemirror_mode": {
    "name": "ipython",
    "version": 3
   },
   "file_extension": ".py",
   "mimetype": "text/x-python",
   "name": "python",
   "nbconvert_exporter": "python",
   "pygments_lexer": "ipython3",
   "version": "3.8.3"
  }
 },
 "nbformat": 4,
 "nbformat_minor": 4
}
