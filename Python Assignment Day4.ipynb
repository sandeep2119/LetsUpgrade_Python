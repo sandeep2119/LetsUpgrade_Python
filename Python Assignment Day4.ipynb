{
 "cells": [
  {
   "cell_type": "markdown",
   "metadata": {},
   "source": [
    "## Question 1: Print the Armstrong Number in the range of  1042000 to 702648265 and exit the loop as soon as you encounter the first armstrong number.\n",
    "### Use While Loop"
   ]
  },
  {
   "cell_type": "code",
   "execution_count": 3,
   "metadata": {},
   "outputs": [
    {
     "name": "stdout",
     "output_type": "stream",
     "text": [
      "153  = is Armstrong Number\n"
     ]
    }
   ],
   "source": [
    "a =  100 # 1042000\n",
    "b =  500 #702648265\n",
    "count = 0\n",
    "for i in range (a , b + 1):\n",
    "     \n",
    "    sum = 0\n",
    "    temp = i\n",
    "\n",
    "    while temp > 0:\n",
    "        digit = temp % 10\n",
    "        temp = temp // 10\n",
    "        sum  = sum + digit ** 3\n",
    "       \n",
    "    \n",
    "    if(i == sum):\n",
    "        count = count + 1\n",
    "        print(i, ' = is Armstrong Number')\n",
    "        if(count == 1):\n",
    "            break\n"
   ]
  },
  {
   "cell_type": "markdown",
   "metadata": {},
   "source": [
    "#### The first Armstrong Number would be 1741725 , But the program is not Executing. Its Taking too long to execute. I have tried with the different range the program working fine."
   ]
  }
 ],
 "metadata": {
  "kernelspec": {
   "display_name": "Python 3",
   "language": "python",
   "name": "python3"
  },
  "language_info": {
   "codemirror_mode": {
    "name": "ipython",
    "version": 3
   },
   "file_extension": ".py",
   "mimetype": "text/x-python",
   "name": "python",
   "nbconvert_exporter": "python",
   "pygments_lexer": "ipython3",
   "version": "3.8.3"
  }
 },
 "nbformat": 4,
 "nbformat_minor": 4
}
