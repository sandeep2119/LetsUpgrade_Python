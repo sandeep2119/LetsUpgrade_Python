{
 "cells": [
  {
   "cell_type": "markdown",
   "metadata": {},
   "source": [
    "## Question 1: Write a python function for finding a given number is prime or not and do unittesting on it using PyLint and Unittesting library."
   ]
  },
  {
   "cell_type": "code",
   "execution_count": 73,
   "metadata": {},
   "outputs": [
    {
     "name": "stdout",
     "output_type": "stream",
     "text": [
      "Overwriting prime_number.py\n"
     ]
    }
   ],
   "source": [
    "%%writefile prime_number.py\n",
    "\n",
    "'''\n",
    "This is a program to demonstrate a prime number.\n",
    "'''\n",
    "def check_prime_number(num):\n",
    "    '''\n",
    "    First of all we have to ensure the number is greater than 1 or not.\n",
    "    '''\n",
    "    if num > 1:\n",
    "        for i in range(2, num):\n",
    "            if num % i == 0:\n",
    "                print(num, 'is not a Prime Number')\n",
    "            else:\n",
    "                return num"
   ]
  },
  {
   "cell_type": "code",
   "execution_count": 72,
   "metadata": {},
   "outputs": [
    {
     "name": "stdout",
     "output_type": "stream",
     "text": [
      "\n",
      "--------------------------------------------------------------------\n",
      "\n",
      "Your code has been rated at 10.00/10 (previous run: 10.00/10, +0.00)\n",
      "\n",
      "\n",
      "\n"
     ]
    }
   ],
   "source": [
    "! pylint \"prime_number.py\""
   ]
  },
  {
   "cell_type": "code",
   "execution_count": 66,
   "metadata": {},
   "outputs": [
    {
     "name": "stdout",
     "output_type": "stream",
     "text": [
      "19  is a Prime Number\n"
     ]
    }
   ],
   "source": [
    "import prime_number\n",
    "\n",
    "prime_number.check_prime_number(19)"
   ]
  },
  {
   "cell_type": "code",
   "execution_count": 74,
   "metadata": {},
   "outputs": [
    {
     "name": "stdout",
     "output_type": "stream",
     "text": [
      "Overwriting testPrime.py\n"
     ]
    }
   ],
   "source": [
    "%%writefile testPrime.py\n",
    "import prime_number\n",
    "import unittest\n",
    "\n",
    "class testPrimeNumber(unittest.TestCase):\n",
    "    def testNumber(self):\n",
    "        num = 19\n",
    "        result = prime_number.check_prime_number(num)\n",
    "        self.assertEqual(result, 19)\n",
    "if __name__ == \"__main__\":\n",
    "    unittest.main()\n"
   ]
  },
  {
   "cell_type": "code",
   "execution_count": 75,
   "metadata": {},
   "outputs": [
    {
     "name": "stderr",
     "output_type": "stream",
     "text": [
      ".\n",
      "----------------------------------------------------------------------\n",
      "Ran 1 test in 0.000s\n",
      "\n",
      "OK\n"
     ]
    }
   ],
   "source": [
    "! python testPrime.py"
   ]
  },
  {
   "cell_type": "markdown",
   "metadata": {},
   "source": [
    "## Question 2 : Make a small generator program for running armstrong numbers in between 1 - 1000 in a generator object."
   ]
  },
  {
   "cell_type": "code",
   "execution_count": 24,
   "metadata": {},
   "outputs": [],
   "source": [
    "def armstrong(num):\n",
    "    for x in range(1,num):\n",
    "        if x>10:\n",
    "            order = len(str(x))\n",
    "            sum = 0\n",
    "\n",
    "            temp = x\n",
    "            while temp > 0:\n",
    "                digit = temp % 10\n",
    "                sum += digit ** order\n",
    "                temp //= 10\n",
    "\n",
    "            if x == sum:\n",
    "                yield print(x)"
   ]
  },
  {
   "cell_type": "code",
   "execution_count": 26,
   "metadata": {},
   "outputs": [
    {
     "name": "stdout",
     "output_type": "stream",
     "text": [
      "153\n",
      "370\n",
      "371\n",
      "407\n"
     ]
    }
   ],
   "source": [
    "lst = list(armstrong(1000))"
   ]
  },
  {
   "cell_type": "code",
   "execution_count": null,
   "metadata": {},
   "outputs": [],
   "source": []
  }
 ],
 "metadata": {
  "kernelspec": {
   "display_name": "Python 3",
   "language": "python",
   "name": "python3"
  },
  "language_info": {
   "codemirror_mode": {
    "name": "ipython",
    "version": 3
   },
   "file_extension": ".py",
   "mimetype": "text/x-python",
   "name": "python",
   "nbconvert_exporter": "python",
   "pygments_lexer": "ipython3",
   "version": "3.8.3"
  }
 },
 "nbformat": 4,
 "nbformat_minor": 4
}
