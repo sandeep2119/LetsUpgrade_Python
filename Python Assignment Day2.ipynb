{
 "cells": [
  {
   "cell_type": "markdown",
   "metadata": {},
   "source": [
    "## Question 1: List and its default functions."
   ]
  },
  {
   "cell_type": "code",
   "execution_count": 8,
   "metadata": {},
   "outputs": [],
   "source": [
    "lst = ['Volkswagen','Audi','Polo']"
   ]
  },
  {
   "cell_type": "code",
   "execution_count": 9,
   "metadata": {},
   "outputs": [],
   "source": [
    "lst.append('Skoda')"
   ]
  },
  {
   "cell_type": "code",
   "execution_count": 10,
   "metadata": {},
   "outputs": [
    {
     "name": "stdout",
     "output_type": "stream",
     "text": [
      "['Volkswagen', 'Audi', 'Polo', 'Skoda']\n"
     ]
    }
   ],
   "source": [
    "print(lst)"
   ]
  },
  {
   "cell_type": "code",
   "execution_count": 29,
   "metadata": {},
   "outputs": [
    {
     "name": "stdout",
     "output_type": "stream",
     "text": [
      "['Volkswagen', 'Audi', 'Polo']\n"
     ]
    }
   ],
   "source": [
    "lst = ['Volkswagen','Audi','Polo']\n",
    "lst.copy()\n",
    "print(lst)"
   ]
  },
  {
   "cell_type": "code",
   "execution_count": 27,
   "metadata": {},
   "outputs": [
    {
     "name": "stdout",
     "output_type": "stream",
     "text": [
      "1\n"
     ]
    }
   ],
   "source": [
    "lst = ['Volkswagen','Audi','Polo']\n",
    "x = lst.count('Audi')\n",
    "print(x)"
   ]
  },
  {
   "cell_type": "code",
   "execution_count": 28,
   "metadata": {},
   "outputs": [
    {
     "name": "stdout",
     "output_type": "stream",
     "text": [
      "[]\n"
     ]
    }
   ],
   "source": [
    "lst = ['Volkswagen','Audi','Polo']\n",
    "lst.clear()\n",
    "print(lst)"
   ]
  },
  {
   "cell_type": "code",
   "execution_count": 26,
   "metadata": {},
   "outputs": [
    {
     "name": "stdout",
     "output_type": "stream",
     "text": [
      "['Volkswagen', 'Audi', 'Polo', 'Ford', 'Bmw', 'Mercereded Benz']\n"
     ]
    }
   ],
   "source": [
    "lst = ['Volkswagen','Audi','Polo']\n",
    "cars = ['Ford','Bmw','Mercereded Benz']\n",
    "\n",
    "lst.extend(cars)\n",
    "print(lst)"
   ]
  },
  {
   "cell_type": "code",
   "execution_count": 30,
   "metadata": {},
   "outputs": [
    {
     "data": {
      "text/plain": [
       "1"
      ]
     },
     "execution_count": 30,
     "metadata": {},
     "output_type": "execute_result"
    }
   ],
   "source": [
    "lst = ['Volkswagen','Audi','Polo']\n",
    "lst.index('Audi')"
   ]
  },
  {
   "cell_type": "code",
   "execution_count": 32,
   "metadata": {},
   "outputs": [
    {
     "name": "stdout",
     "output_type": "stream",
     "text": [
      "['Volkswagen', 'Audi', 'Figo', 'Polo']\n"
     ]
    }
   ],
   "source": [
    "lst = ['Volkswagen','Audi','Polo']\n",
    "lst.insert(2, 'Figo')\n",
    "print(lst)"
   ]
  },
  {
   "cell_type": "code",
   "execution_count": 33,
   "metadata": {},
   "outputs": [
    {
     "name": "stdout",
     "output_type": "stream",
     "text": [
      "['Volkswagen', 'Audi']\n"
     ]
    }
   ],
   "source": [
    "lst = ['Volkswagen','Audi','Polo']\n",
    "lst.pop()\n",
    "print(lst)"
   ]
  },
  {
   "cell_type": "code",
   "execution_count": 34,
   "metadata": {},
   "outputs": [
    {
     "name": "stdout",
     "output_type": "stream",
     "text": [
      "['Volkswagen', 'Polo']\n"
     ]
    }
   ],
   "source": [
    "lst = ['Volkswagen','Audi','Polo']\n",
    "lst.remove('Audi')\n",
    "print(lst)"
   ]
  },
  {
   "cell_type": "code",
   "execution_count": 35,
   "metadata": {},
   "outputs": [
    {
     "name": "stdout",
     "output_type": "stream",
     "text": [
      "['Polo', 'Audi', 'Volkswagen']\n"
     ]
    }
   ],
   "source": [
    "lst = ['Volkswagen','Audi','Polo']\n",
    "lst.reverse()\n",
    "print(lst)"
   ]
  },
  {
   "cell_type": "markdown",
   "metadata": {},
   "source": [
    "## Question 2: Dictionary and its default functions"
   ]
  },
  {
   "cell_type": "code",
   "execution_count": 37,
   "metadata": {},
   "outputs": [],
   "source": [
    "dct = {'1' : 'Volkswagen','2' : 'Audi','3' : 'Skoda','4' : 'Ford'}"
   ]
  },
  {
   "cell_type": "code",
   "execution_count": 38,
   "metadata": {},
   "outputs": [
    {
     "name": "stdout",
     "output_type": "stream",
     "text": [
      "{'1': 'Volkswagen', '2': 'Audi', '3': 'Skoda', '4': 'Ford'}\n"
     ]
    }
   ],
   "source": [
    "dct.copy()\n",
    "print(dct)"
   ]
  },
  {
   "cell_type": "code",
   "execution_count": 49,
   "metadata": {},
   "outputs": [
    {
     "name": "stdout",
     "output_type": "stream",
     "text": [
      "{'1': None}\n"
     ]
    }
   ],
   "source": [
    "dct = {'1' : 'Volkswagen','2' : 'Audi','3' : 'Skoda','4' : 'Ford'}\n",
    "x  = dct.fromkeys('1')\n",
    "print(x)"
   ]
  },
  {
   "cell_type": "code",
   "execution_count": 51,
   "metadata": {},
   "outputs": [
    {
     "name": "stdout",
     "output_type": "stream",
     "text": [
      "Audi\n"
     ]
    }
   ],
   "source": [
    "dct = {'1' : 'Volkswagen','2' : 'Audi','3' : 'Skoda','4' : 'Ford'}\n",
    "x = dct.get('2')\n",
    "print(x)"
   ]
  },
  {
   "cell_type": "code",
   "execution_count": 62,
   "metadata": {},
   "outputs": [
    {
     "name": "stdout",
     "output_type": "stream",
     "text": [
      "dict_items([('1', 'Volkswagen'), ('2', 'Audi'), ('3', 'Skoda'), ('4', 'Ford')])\n"
     ]
    }
   ],
   "source": [
    "dct = {'1' : 'Volkswagen','2' : 'Audi','3' : 'Skoda','4' : 'Ford'}\n",
    "x = dct.items()\n",
    "print(x)"
   ]
  },
  {
   "cell_type": "code",
   "execution_count": 60,
   "metadata": {},
   "outputs": [
    {
     "name": "stdout",
     "output_type": "stream",
     "text": [
      "dict_keys(['1', '2', '3', '4'])\n"
     ]
    }
   ],
   "source": [
    "dct = {'1' : 'Volkswagen','2' : 'Audi','3' : 'Skoda','4' : 'Ford'}\n",
    "x = dct.keys()\n",
    "print(x)"
   ]
  },
  {
   "cell_type": "code",
   "execution_count": 57,
   "metadata": {},
   "outputs": [
    {
     "name": "stdout",
     "output_type": "stream",
     "text": [
      "{'1': 'Volkswagen', '3': 'Skoda', '4': 'Ford'}\n"
     ]
    }
   ],
   "source": [
    "dct = {'1' : 'Volkswagen','2' : 'Audi','3' : 'Skoda','4' : 'Ford'}\n",
    "dct.pop('2')\n",
    "print(dct)"
   ]
  },
  {
   "cell_type": "code",
   "execution_count": 65,
   "metadata": {},
   "outputs": [
    {
     "name": "stdout",
     "output_type": "stream",
     "text": [
      "{'1': 'Volkswagen', '2': 'Audi', '3': 'Skoda'}\n"
     ]
    }
   ],
   "source": [
    "dct = {'1' : 'Volkswagen','2' : 'Audi','3' : 'Skoda','4' : 'Ford'}\n",
    "dct.popitem()\n",
    "print(dct)"
   ]
  },
  {
   "cell_type": "code",
   "execution_count": 76,
   "metadata": {},
   "outputs": [
    {
     "name": "stdout",
     "output_type": "stream",
     "text": [
      "Audi\n"
     ]
    }
   ],
   "source": [
    "dct = {'1' : 'Volkswagen','2' : 'Audi','3' : 'Skoda','4' : 'Ford'}\n",
    "x = dct.setdefault('2','Polo')\n",
    "print(x)"
   ]
  },
  {
   "cell_type": "code",
   "execution_count": 75,
   "metadata": {},
   "outputs": [
    {
     "name": "stdout",
     "output_type": "stream",
     "text": [
      "{'1': 'Volkswagen', '2': 'Audi', '3': 'Skoda', '4': 'Ford', '5': 'Figo'}\n"
     ]
    }
   ],
   "source": [
    "dct = {'1' : 'Volkswagen','2' : 'Audi','3' : 'Skoda','4' : 'Ford'}\n",
    "dct.update({'5':'Figo'})\n",
    "print(dct)"
   ]
  },
  {
   "cell_type": "code",
   "execution_count": 78,
   "metadata": {},
   "outputs": [
    {
     "name": "stdout",
     "output_type": "stream",
     "text": [
      "dict_values(['Volkswagen', 'Audi', 'Skoda', 'Ford'])\n"
     ]
    }
   ],
   "source": [
    "dct = {'1' : 'Volkswagen','2' : 'Audi','3' : 'Skoda','4' : 'Ford'}\n",
    "x  = dct.values()\n",
    "print(x)"
   ]
  },
  {
   "cell_type": "code",
   "execution_count": 79,
   "metadata": {},
   "outputs": [
    {
     "name": "stdout",
     "output_type": "stream",
     "text": [
      "{}\n"
     ]
    }
   ],
   "source": [
    "dct = {'1' : 'Volkswagen','2' : 'Audi','3' : 'Skoda','4' : 'Ford'}\n",
    "dct.clear()\n",
    "print(dct)"
   ]
  },
  {
   "cell_type": "markdown",
   "metadata": {},
   "source": [
    "## Question 3 : Sets and its default functions"
   ]
  },
  {
   "cell_type": "code",
   "execution_count": 80,
   "metadata": {},
   "outputs": [
    {
     "name": "stdout",
     "output_type": "stream",
     "text": [
      "{'Ford', 'Audi', 'Skoda', 'Volkswagen'}\n"
     ]
    }
   ],
   "source": [
    "sets = {'Volkswagen','Skoda','Audi'}\n",
    "sets.add('Ford')\n",
    "print(sets)"
   ]
  },
  {
   "cell_type": "code",
   "execution_count": 81,
   "metadata": {},
   "outputs": [
    {
     "name": "stdout",
     "output_type": "stream",
     "text": [
      "{'Audi', 'Skoda', 'Volkswagen'}\n"
     ]
    }
   ],
   "source": [
    "sets = {'Volkswagen','Skoda','Audi'}\n",
    "sets.copy()\n",
    "print(sets)"
   ]
  },
  {
   "cell_type": "code",
   "execution_count": 93,
   "metadata": {},
   "outputs": [
    {
     "name": "stdout",
     "output_type": "stream",
     "text": [
      "{'Audi', 'ford'}\n"
     ]
    }
   ],
   "source": [
    "sets = {'Volkswagen','Skoda','Audi','ford'}\n",
    "sets1 = {'Skoda','Volkswagen','Bmw','Benz'}\n",
    "x = sets.difference(sets1)\n",
    "print(x) ## Return a set that contains the items that only exist in sets , and not in sets1"
   ]
  },
  {
   "cell_type": "code",
   "execution_count": 88,
   "metadata": {},
   "outputs": [
    {
     "name": "stdout",
     "output_type": "stream",
     "text": [
      "{'Audi'}\n"
     ]
    }
   ],
   "source": [
    "sets = {'Volkswagen','Skoda','Audi'}\n",
    "sets1 = {'Volkswagen','Bmw','Benz','Skoda'}\n",
    "sets.difference_update(sets1)\n",
    "print(sets)"
   ]
  },
  {
   "cell_type": "code",
   "execution_count": 94,
   "metadata": {},
   "outputs": [
    {
     "name": "stdout",
     "output_type": "stream",
     "text": [
      "{'Skoda', 'Volkswagen'}\n"
     ]
    }
   ],
   "source": [
    "sets = {'Volkswagen','Skoda','Audi'}\n",
    "sets.discard('Audi')\n",
    "print(sets)"
   ]
  },
  {
   "cell_type": "code",
   "execution_count": 96,
   "metadata": {},
   "outputs": [
    {
     "name": "stdout",
     "output_type": "stream",
     "text": [
      "{'Skoda', 'Volkswagen'}\n"
     ]
    }
   ],
   "source": [
    "sets = {'Volkswagen','Skoda','Audi'}\n",
    "sets1 = {'Volkswagen','Bmw','Benz','Skoda'}\n",
    "x = sets.intersection(sets1)\n",
    "print(x)"
   ]
  },
  {
   "cell_type": "code",
   "execution_count": 99,
   "metadata": {},
   "outputs": [
    {
     "name": "stdout",
     "output_type": "stream",
     "text": [
      "{'Volkswagen'}\n"
     ]
    }
   ],
   "source": [
    "sets = {'Volkswagen','Skoda','Audi'}\n",
    "sets1 = {'Volkswagen','Bmw','Benz','Skoda'}\n",
    "sets2 = {'Polo','Figo','Volkswagen'}\n",
    "sets.intersection_update(sets1,sets2)\n",
    "print(sets)"
   ]
  },
  {
   "cell_type": "code",
   "execution_count": 101,
   "metadata": {},
   "outputs": [
    {
     "name": "stdout",
     "output_type": "stream",
     "text": [
      "False\n"
     ]
    }
   ],
   "source": [
    "sets = {'Volkswagen','Skoda','Audi'}\n",
    "sets1 = {'Volkswagen','Bmw','Benz','Skoda'}\n",
    "x = sets.isdisjoint(sets1)\n",
    "print(x)  ## Returns True if no items in sets is present in sets.\n"
   ]
  },
  {
   "cell_type": "code",
   "execution_count": 103,
   "metadata": {},
   "outputs": [
    {
     "name": "stdout",
     "output_type": "stream",
     "text": [
      "True\n"
     ]
    }
   ],
   "source": [
    "sets1 = {'Volkswagen','Skoda','Audi'}\n",
    "sets = {'Volkswagen','Bmw','Benz','Skoda','Audi'}\n",
    "x = sets.issubset(sets1)\n",
    "print(x) ## Return True only if all items sets  are present in sets1"
   ]
  },
  {
   "cell_type": "code",
   "execution_count": 104,
   "metadata": {},
   "outputs": [
    {
     "name": "stdout",
     "output_type": "stream",
     "text": [
      "True\n"
     ]
    }
   ],
   "source": [
    "sets = {'Volkswagen','Bmw','Benz','Skoda','Audi'}\n",
    "sets1 = {'Volkswagen','Skoda','Audi'}\n",
    "x = sets.issuperset(sets1)\n",
    "print(x) ## Return True onlt if all items sets1 are present in sets"
   ]
  },
  {
   "cell_type": "code",
   "execution_count": 109,
   "metadata": {},
   "outputs": [
    {
     "name": "stdout",
     "output_type": "stream",
     "text": [
      "{'3', '2'}\n"
     ]
    }
   ],
   "source": [
    "sets = {'1','2','3'}\n",
    "sets.pop()\n",
    "print(sets)"
   ]
  },
  {
   "cell_type": "code",
   "execution_count": 110,
   "metadata": {},
   "outputs": [
    {
     "name": "stdout",
     "output_type": "stream",
     "text": [
      "{'Bmw', 'Benz', 'Volkswagen', 'Skoda'}\n"
     ]
    }
   ],
   "source": [
    "sets = {'Volkswagen','Bmw','Benz','Skoda','Audi'}\n",
    "sets.remove('Audi')\n",
    "print(sets)"
   ]
  },
  {
   "cell_type": "code",
   "execution_count": 111,
   "metadata": {},
   "outputs": [
    {
     "name": "stdout",
     "output_type": "stream",
     "text": [
      "{'Bmw', 'Benz'}\n"
     ]
    }
   ],
   "source": [
    "sets = {'Volkswagen','Bmw','Benz','Skoda','Audi'}\n",
    "sets1 = {'Volkswagen','Skoda','Audi'}\n",
    "x  = sets.symmetric_difference(sets1)\n",
    "print(x) ## Return a set that contains all items from both sets, except items that are present in both sets"
   ]
  },
  {
   "cell_type": "code",
   "execution_count": 113,
   "metadata": {},
   "outputs": [
    {
     "name": "stdout",
     "output_type": "stream",
     "text": [
      "{'Bmw', 'Benz'}\n"
     ]
    }
   ],
   "source": [
    "sets = {'Volkswagen','Bmw','Benz','Skoda','Audi'}\n",
    "sets1 = {'Volkswagen','Skoda','Audi'}\n",
    "sets.symmetric_difference_update(sets1)\n",
    "print(sets) ## Removes items contains in both the sets and returns the remaining items from both the sets."
   ]
  },
  {
   "cell_type": "code",
   "execution_count": 115,
   "metadata": {},
   "outputs": [
    {
     "name": "stdout",
     "output_type": "stream",
     "text": [
      "{'Bmw', 'Benz', 'Ford', 'Audi', 'Volkswagen', 'Skoda'}\n"
     ]
    }
   ],
   "source": [
    "sets = {'Volkswagen','Bmw','Benz','Skoda','Audi'}\n",
    "sets1 = {'Volkswagen','Skoda','Audi','Ford'}\n",
    "x = sets.union(sets1)\n",
    "print(x)"
   ]
  },
  {
   "cell_type": "code",
   "execution_count": 116,
   "metadata": {},
   "outputs": [
    {
     "name": "stdout",
     "output_type": "stream",
     "text": [
      "{'Bmw', 'Audi', 'Benz', 'Volkswagen', 'Skoda'}\n"
     ]
    }
   ],
   "source": [
    "sets = {'Volkswagen','Skoda','Audi'}\n",
    "sets1 = {'Volkswagen','Bmw','Benz','Skoda'}\n",
    "sets.update(sets1)\n",
    "print(sets)"
   ]
  },
  {
   "cell_type": "code",
   "execution_count": 117,
   "metadata": {},
   "outputs": [
    {
     "name": "stdout",
     "output_type": "stream",
     "text": [
      "set()\n"
     ]
    }
   ],
   "source": [
    "sets = {'Volkswagen','Skoda','Audi'}\n",
    "sets.clear()\n",
    "print(sets)"
   ]
  },
  {
   "cell_type": "markdown",
   "metadata": {},
   "source": [
    "## Queston 4: Tuple and explore default methods"
   ]
  },
  {
   "cell_type": "code",
   "execution_count": 123,
   "metadata": {},
   "outputs": [
    {
     "name": "stdout",
     "output_type": "stream",
     "text": [
      "2\n"
     ]
    }
   ],
   "source": [
    "tup = ('Volkswagen','Audi','Skoda','Volkswagen','Audi','Skoda')\n",
    "x = tup.count('Audi')\n",
    "print(x)"
   ]
  },
  {
   "cell_type": "code",
   "execution_count": 128,
   "metadata": {},
   "outputs": [
    {
     "name": "stdout",
     "output_type": "stream",
     "text": [
      "1\n"
     ]
    }
   ],
   "source": [
    "tup = ('Polo','Figo','I20')\n",
    "x = tup.index('Figo')\n",
    "print(x)"
   ]
  },
  {
   "cell_type": "markdown",
   "metadata": {},
   "source": [
    "## Question 5: Strings and explore default methods"
   ]
  },
  {
   "cell_type": "code",
   "execution_count": 130,
   "metadata": {},
   "outputs": [
    {
     "name": "stdout",
     "output_type": "stream",
     "text": [
      "I have joined python course with letsuprade team\n"
     ]
    }
   ],
   "source": [
    "string = \"i Have Joined Python Course With LetsUprade Team\"\n",
    "x = string.capitalize();\n",
    "print(x) ## It capitailizes the 1st character of the string."
   ]
  },
  {
   "cell_type": "code",
   "execution_count": 131,
   "metadata": {},
   "outputs": [
    {
     "name": "stdout",
     "output_type": "stream",
     "text": [
      "i have joined python course with letsuprade team\n"
     ]
    }
   ],
   "source": [
    "string = \"i Have Joined Python Course With LetsUprade Team\"\n",
    "x = string.casefold()\n",
    "print(x) ## It converts string into lowercase"
   ]
  },
  {
   "cell_type": "code",
   "execution_count": 138,
   "metadata": {},
   "outputs": [
    {
     "name": "stdout",
     "output_type": "stream",
     "text": [
      "     LetsUprade     \n"
     ]
    }
   ],
   "source": [
    "string = \"LetsUprade\"\n",
    "x = string.center(20)\n",
    "print(x) ## Printing the word \"LetsUpgrade\" in the center after 20 spaces"
   ]
  },
  {
   "cell_type": "code",
   "execution_count": 141,
   "metadata": {},
   "outputs": [
    {
     "name": "stdout",
     "output_type": "stream",
     "text": [
      "2\n"
     ]
    }
   ],
   "source": [
    "string = \"I love cars, polo is one of my favourite cars\"\n",
    "x = string.count('cars')\n",
    "print(x)"
   ]
  },
  {
   "cell_type": "code",
   "execution_count": 147,
   "metadata": {},
   "outputs": [
    {
     "name": "stdout",
     "output_type": "stream",
     "text": [
      "b'I want to become a Data Scientist'\n"
     ]
    }
   ],
   "source": [
    "string = \"I want to become a Data Scientist\"\n",
    "x = string.encode()\n",
    "print(x)"
   ]
  },
  {
   "cell_type": "code",
   "execution_count": 148,
   "metadata": {},
   "outputs": [
    {
     "name": "stdout",
     "output_type": "stream",
     "text": [
      "True\n"
     ]
    }
   ],
   "source": [
    "string = \"I want to become a Data Scientist\"\n",
    "x = string.endswith('t')\n",
    "print(x)"
   ]
  },
  {
   "cell_type": "code",
   "execution_count": 152,
   "metadata": {},
   "outputs": [
    {
     "name": "stdout",
     "output_type": "stream",
     "text": [
      "s       a       ndeep\n"
     ]
    }
   ],
   "source": [
    "string = 's\\ta\\tndeep'\n",
    "x = string.expandtabs()\n",
    "print(x)"
   ]
  },
  {
   "cell_type": "code",
   "execution_count": 153,
   "metadata": {},
   "outputs": [
    {
     "name": "stdout",
     "output_type": "stream",
     "text": [
      "19\n"
     ]
    }
   ],
   "source": [
    "string = \"I want to become a Data Scientist\"\n",
    "x = string.find('Data')\n",
    "print(x)"
   ]
  },
  {
   "cell_type": "code",
   "execution_count": 156,
   "metadata": {},
   "outputs": [
    {
     "name": "stdout",
     "output_type": "stream",
     "text": [
      "Iphone 11 Costs  1000000.00 rupees\n"
     ]
    }
   ],
   "source": [
    "string = 'Iphone 11 Costs {cost: .2f} rupees'\n",
    "print(string.format(cost = 1000000))"
   ]
  },
  {
   "cell_type": "code",
   "execution_count": 163,
   "metadata": {},
   "outputs": [
    {
     "name": "stdout",
     "output_type": "stream",
     "text": [
      "0\n"
     ]
    }
   ],
   "source": [
    "string = \"I want to become a Data Scientist\"\n",
    "x = string.index('I')\n",
    "print(x)"
   ]
  },
  {
   "cell_type": "code",
   "execution_count": 164,
   "metadata": {},
   "outputs": [
    {
     "name": "stdout",
     "output_type": "stream",
     "text": [
      "True\n"
     ]
    }
   ],
   "source": [
    "string = 'Sandeep2119'\n",
    "x = string.isalnum()\n",
    "print(x) ## If the string contains both alphabets and numbers it returns true."
   ]
  },
  {
   "cell_type": "code",
   "execution_count": 167,
   "metadata": {},
   "outputs": [
    {
     "name": "stdout",
     "output_type": "stream",
     "text": [
      "True\n"
     ]
    }
   ],
   "source": [
    "string = 'SanDy'\n",
    "x =string.isalpha()\n",
    "print(x) ## Retunrs True if the String contains only alphabets."
   ]
  },
  {
   "cell_type": "code",
   "execution_count": 168,
   "metadata": {},
   "outputs": [
    {
     "name": "stdout",
     "output_type": "stream",
     "text": [
      "True\n"
     ]
    }
   ],
   "source": [
    "string = '2119'\n",
    "x = string.isdecimal()\n",
    "print(x)  ## Retunrs True if the String contains only Numbers."
   ]
  },
  {
   "cell_type": "code",
   "execution_count": 169,
   "metadata": {},
   "outputs": [
    {
     "name": "stdout",
     "output_type": "stream",
     "text": [
      "i want to become a data scientist\n"
     ]
    }
   ],
   "source": [
    "string = \"I want to become a Data Scientist\"\n",
    "x = string.lower()\n",
    "print(x) ## returns the string in lower case."
   ]
  },
  {
   "cell_type": "code",
   "execution_count": 170,
   "metadata": {},
   "outputs": [
    {
     "name": "stdout",
     "output_type": "stream",
     "text": [
      "False\n"
     ]
    }
   ],
   "source": [
    "string = \"I want to become a Data Scientist\"\n",
    "x = string.islower()\n",
    "print(x) ## returns true if all the characters in the string are in lowercase."
   ]
  },
  {
   "cell_type": "code",
   "execution_count": 171,
   "metadata": {},
   "outputs": [
    {
     "name": "stdout",
     "output_type": "stream",
     "text": [
      "False\n"
     ]
    }
   ],
   "source": [
    "string = \"I want to become a Data Scientist\"\n",
    "x = string.isupper()\n",
    "print(x) ## returns true if all the characters in the string are in Uppercase."
   ]
  },
  {
   "cell_type": "code",
   "execution_count": 172,
   "metadata": {},
   "outputs": [
    {
     "name": "stdout",
     "output_type": "stream",
     "text": [
      "I WANT TO BECOME A DATA SCIENTIST\n"
     ]
    }
   ],
   "source": [
    "string = \"I want to become a Data Scientist\"\n",
    "x = string.upper()\n",
    "print(x) ## returns the string in Upper case."
   ]
  },
  {
   "cell_type": "code",
   "execution_count": 173,
   "metadata": {},
   "outputs": [
    {
     "name": "stdout",
     "output_type": "stream",
     "text": [
      "['I', 'want', 'to', 'become', 'a', 'Data', 'Scientist']\n"
     ]
    }
   ],
   "source": [
    "string = \"I want to become a Data Scientist\"\n",
    "x = string.split()\n",
    "print(x) ## Splits the entire string."
   ]
  },
  {
   "cell_type": "code",
   "execution_count": 174,
   "metadata": {},
   "outputs": [
    {
     "name": "stdout",
     "output_type": "stream",
     "text": [
      "I Am Sandeep And I Want To Become A Data Scientist\n"
     ]
    }
   ],
   "source": [
    "string = 'i am sandeep and i want to become a data scientist'\n",
    "x = string.title()\n",
    "print(x) ## Converts the 1st alphabet of each word to upper case."
   ]
  },
  {
   "cell_type": "code",
   "execution_count": 175,
   "metadata": {},
   "outputs": [
    {
     "name": "stdout",
     "output_type": "stream",
     "text": [
      "000000000000000002119\n"
     ]
    }
   ],
   "source": [
    "string = '2119'\n",
    "x = string.zfill(21)\n",
    "print(x) ## prints 2 whitespaces and then prints the given string."
   ]
  },
  {
   "cell_type": "code",
   "execution_count": null,
   "metadata": {},
   "outputs": [],
   "source": []
  }
 ],
 "metadata": {
  "kernelspec": {
   "display_name": "Python 3",
   "language": "python",
   "name": "python3"
  },
  "language_info": {
   "codemirror_mode": {
    "name": "ipython",
    "version": 3
   },
   "file_extension": ".py",
   "mimetype": "text/x-python",
   "name": "python",
   "nbconvert_exporter": "python",
   "pygments_lexer": "ipython3",
   "version": "3.8.3"
  }
 },
 "nbformat": 4,
 "nbformat_minor": 4
}
